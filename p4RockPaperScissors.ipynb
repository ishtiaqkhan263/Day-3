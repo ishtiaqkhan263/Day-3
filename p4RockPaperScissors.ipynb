{
  "nbformat": 4,
  "nbformat_minor": 0,
  "metadata": {
    "colab": {
      "provenance": [],
      "authorship_tag": "ABX9TyNJWKzC/vkA7oCqRdY6bh7t",
      "include_colab_link": true
    },
    "kernelspec": {
      "name": "python3",
      "display_name": "Python 3"
    },
    "language_info": {
      "name": "python"
    }
  },
  "cells": [
    {
      "cell_type": "markdown",
      "metadata": {
        "id": "view-in-github",
        "colab_type": "text"
      },
      "source": [
        "<a href=\"https://colab.research.google.com/github/ishtiaqkhan263/Day-3/blob/main/p4RockPaperScissors.ipynb\" target=\"_parent\"><img src=\"https://colab.research.google.com/assets/colab-badge.svg\" alt=\"Open In Colab\"/></a>"
      ]
    },
    {
      "cell_type": "code",
      "execution_count": null,
      "metadata": {
        "colab": {
          "base_uri": "https://localhost:8080/"
        },
        "id": "pyqzl15PiUAU",
        "outputId": "496601b6-0b71-4986-8f92-266ee03845f6"
      },
      "outputs": [
        {
          "output_type": "stream",
          "name": "stdout",
          "text": [
            "What is your choice? 'r' for rock, 'p' for paper, 's' for scissors: r\n",
            "Computer chose: p\n",
            "You lost!\n"
          ]
        }
      ],
      "source": [
        "import random\n",
        "\n",
        "def play():\n",
        "    user = input(\"What is your choice? 'r' for rock, 'p' for paper, 's' for scissors: \")\n",
        "    computer = random.choice(['r', 'p', 's'])\n",
        "    print(f\"Computer chose: {computer}\")\n",
        "\n",
        "    if user == computer:\n",
        "        return \"It's a tie\"\n",
        "\n",
        "    if is_win(user, computer):\n",
        "        return \"You won!\"\n",
        "\n",
        "    return \"You lost!\"\n",
        "\n",
        "def is_win(player, opponent):\n",
        "    # Winning conditions: Rock beats Scissors, Scissors beats Paper, Paper beats Rock\n",
        "    return (player == 'r' and opponent == 's') or \\\n",
        "           (player == 's' and opponent == 'p') or \\\n",
        "           (player == 'p' and opponent == 'r')\n",
        "\n",
        "# Run the game\n",
        "print(play())"
      ]
    }
  ]
}