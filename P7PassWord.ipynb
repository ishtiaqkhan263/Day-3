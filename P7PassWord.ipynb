{
  "nbformat": 4,
  "nbformat_minor": 0,
  "metadata": {
    "colab": {
      "provenance": [],
      "authorship_tag": "ABX9TyMdb8o3hdIozdTaDdPslGe+",
      "include_colab_link": true
    },
    "kernelspec": {
      "name": "python3",
      "display_name": "Python 3"
    },
    "language_info": {
      "name": "python"
    }
  },
  "cells": [
    {
      "cell_type": "markdown",
      "metadata": {
        "id": "view-in-github",
        "colab_type": "text"
      },
      "source": [
        "<a href=\"https://colab.research.google.com/github/ishtiaqkhan263/Day-3/blob/main/P7PassWord.ipynb\" target=\"_parent\"><img src=\"https://colab.research.google.com/assets/colab-badge.svg\" alt=\"Open In Colab\"/></a>"
      ]
    },
    {
      "cell_type": "code",
      "execution_count": 3,
      "metadata": {
        "colab": {
          "base_uri": "https://localhost:8080/"
        },
        "id": "onxX1hvVZYNf",
        "outputId": "76b4a07e-62a3-4e5b-99fe-85f67ad8cfda"
      },
      "outputs": [
        {
          "output_type": "stream",
          "name": "stdout",
          "text": [
            "Welcome To Your Password Generator\n",
            "Amount of passwords to generate: 6\n",
            "Input Your password length: 6\n",
            "\n",
            "Here are your passwords:\n",
            "\n",
            "mw6yx$\n",
            "$IYq0c\n",
            "qlFW#&\n",
            "l1U*OX\n",
            "HQW9JD\n",
            "bbHtv6\n",
            "\n",
            "Done!\n"
          ]
        }
      ],
      "source": [
        "import random\n",
        "\n",
        "print('Welcome To Your Password Generator')\n",
        "\n",
        "chars = 'abcdefghijklmnopqrstuvwxyzABCDEFGHIJKLMNOPQRSTUVWXYZ!@#$%^&*1234567890'\n",
        "\n",
        "number = input('Amount of passwords to generate: ')\n",
        "number = int(number)\n",
        "\n",
        "length = input('Input Your password length: ')\n",
        "length = int(length)\n",
        "\n",
        "print('\\nHere are your passwords:\\n')\n",
        "\n",
        "for _ in range(number):  # Use _ since the loop variable is not needed\n",
        "    password = ''  # Fixed variable name from \"passwords\" to \"password\" (singular)\n",
        "    for _ in range(length):\n",
        "        password += random.choice(chars)\n",
        "    print(password)\n",
        "\n",
        "print('\\nDone!')  # Fixed missing closing quote"
      ]
    }
  ]
}