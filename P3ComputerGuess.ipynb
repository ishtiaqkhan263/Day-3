{
  "nbformat": 4,
  "nbformat_minor": 0,
  "metadata": {
    "colab": {
      "provenance": [],
      "authorship_tag": "ABX9TyMKYTRY0LffZY8Ud5Iax5j4",
      "include_colab_link": true
    },
    "kernelspec": {
      "name": "python3",
      "display_name": "Python 3"
    },
    "language_info": {
      "name": "python"
    }
  },
  "cells": [
    {
      "cell_type": "markdown",
      "metadata": {
        "id": "view-in-github",
        "colab_type": "text"
      },
      "source": [
        "<a href=\"https://colab.research.google.com/github/ishtiaqkhan263/Day-3/blob/main/P3ComputerGuess.ipynb\" target=\"_parent\"><img src=\"https://colab.research.google.com/assets/colab-badge.svg\" alt=\"Open In Colab\"/></a>"
      ]
    },
    {
      "cell_type": "code",
      "execution_count": null,
      "metadata": {
        "colab": {
          "base_uri": "https://localhost:8080/"
        },
        "id": "kxM-SwFegRI2",
        "outputId": "6ebc2732-0441-432b-f7fa-179a23b69858"
      },
      "outputs": [
        {
          "name": "stdout",
          "output_type": "stream",
          "text": [
            "Is 7 too high (H), too low (L), or correct (C)? 7\n",
            "Is 5 too high (H), too low (L), or correct (C)? 5\n",
            "Is 8 too high (H), too low (L), or correct (C)? 8\n",
            "Is 4 too high (H), too low (L), or correct (C)? 4\n",
            "Is 8 too high (H), too low (L), or correct (C)? 3\n",
            "Is 10 too high (H), too low (L), or correct (C)? 2\n",
            "Is 7 too high (H), too low (L), or correct (C)? 1\n",
            "Is 3 too high (H), too low (L), or correct (C)? 6\n",
            "Is 10 too high (H), too low (L), or correct (C)? 9\n",
            "Is 4 too high (H), too low (L), or correct (C)? 10\n"
          ]
        }
      ],
      "source": [
        "import random\n",
        "\n",
        "def computer_guess(x):\n",
        "    low = 1\n",
        "    high = x\n",
        "    feedback = ''\n",
        "    while feedback != 'c':  # Loop jab tak correct answer na mile\n",
        "        if low != high:\n",
        "            guess = random.randint(low, high)\n",
        "        else:\n",
        "            guess = low  # Agar low aur high same hain to wahi guess hoga\n",
        "\n",
        "\n",
        "        feedback = input(f'Is {guess} too high (H), too low (L), or correct (C)? ').lower()\n",
        "\n",
        "        if feedback == 'h':\n",
        "            high = guess - 1\n",
        "        elif feedback == 'l':\n",
        "            low = guess + 1\n",
        "\n",
        "    print(f'Yay! The computer guessed your number, {guess}, correctly!')\n",
        "\n",
        "# Function ko call karna\n",
        "computer_guess(10)"
      ]
    }
  ]
}