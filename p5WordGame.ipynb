{
  "nbformat": 4,
  "nbformat_minor": 0,
  "metadata": {
    "colab": {
      "provenance": [],
      "authorship_tag": "ABX9TyP3wjYRW1KztAfK3mhXaSs7",
      "include_colab_link": true
    },
    "kernelspec": {
      "name": "python3",
      "display_name": "Python 3"
    },
    "language_info": {
      "name": "python"
    }
  },
  "cells": [
    {
      "cell_type": "markdown",
      "metadata": {
        "id": "view-in-github",
        "colab_type": "text"
      },
      "source": [
        "<a href=\"https://colab.research.google.com/github/ishtiaqkhan263/Day-3/blob/main/p5WordGame.ipynb\" target=\"_parent\"><img src=\"https://colab.research.google.com/assets/colab-badge.svg\" alt=\"Open In Colab\"/></a>"
      ]
    },
    {
      "cell_type": "code",
      "execution_count": null,
      "metadata": {
        "colab": {
          "base_uri": "https://localhost:8080/"
        },
        "id": "q_A6UkPkkNTm",
        "outputId": "882bd84c-900c-4f2d-9555-fa0cf979a1a3"
      },
      "outputs": [
        {
          "output_type": "stream",
          "name": "stdout",
          "text": [
            "You have 6 lives left and you have used these letters:  \n",
            "Current word:  - - - - - - - - - - -\n",
            "Guess a letter: software\n",
            "Invalid character. Please try again.\n",
            "You have 6 lives left and you have used these letters:  \n",
            "Current word:  - - - - - - - - - - -\n",
            "Guess a letter: developer\n",
            "Invalid character. Please try again.\n",
            "You have 6 lives left and you have used these letters:  \n",
            "Current word:  - - - - - - - - - - -\n",
            "Guess a letter: python\n",
            "Invalid character. Please try again.\n",
            "You have 6 lives left and you have used these letters:  \n",
            "Current word:  - - - - - - - - - - -\n",
            "Guess a letter: Programming\n",
            "Invalid character. Please try again.\n",
            "You have 6 lives left and you have used these letters:  \n",
            "Current word:  - - - - - - - - - - -\n",
            "Guess a letter: hangman\n",
            "Invalid character. Please try again.\n",
            "You have 6 lives left and you have used these letters:  \n",
            "Current word:  - - - - - - - - - - -\n",
            "Guess a letter: computer\n",
            "Invalid character. Please try again.\n",
            "You have 6 lives left and you have used these letters:  \n",
            "Current word:  - - - - - - - - - - -\n"
          ]
        }
      ],
      "source": [
        "import random\n",
        "import string\n",
        "\n",
        "# Define a list of words manually\n",
        "words = [\"PYTHON\", \"DEVELOPER\", \"PROGRAMMING\", \"COMPUTER\", \"HANGMAN\", \"SOFTWARE\"]\n",
        "\n",
        "def get_valid_word(words):\n",
        "    word = random.choice(words).upper()  # Convert word to uppercase for consistency\n",
        "    while '-' in word or ' ' in word:\n",
        "        word = random.choice(words).upper()\n",
        "    return word\n",
        "\n",
        "def hangman():\n",
        "    word = get_valid_word(words)\n",
        "    word_letters = set(word)  # Letters in the word\n",
        "    alphabet = set(string.ascii_uppercase)  # All uppercase letters\n",
        "    used_letters = set()  # Letters guessed by the user\n",
        "\n",
        "    lives = 6\n",
        "\n",
        "    while len(word_letters) > 0 and lives > 0:\n",
        "        print('You have', lives, 'lives left and you have used these letters: ', ' '.join(used_letters))\n",
        "\n",
        "        word_list = [letter if letter in used_letters else '-' for letter in word]\n",
        "        print('Current word: ', ' '.join(word_list))\n",
        "\n",
        "        user_letter = input('Guess a letter: ').upper()\n",
        "\n",
        "        if user_letter in alphabet - used_letters:\n",
        "            used_letters.add(user_letter)\n",
        "            if user_letter in word_letters:\n",
        "                word_letters.remove(user_letter)\n",
        "                print(f'Good guess! {user_letter} is in the word.')\n",
        "            else:\n",
        "                lives -= 1  # Decrease lives\n",
        "                print(f'Sorry, {user_letter} is not in the word.')\n",
        "        elif user_letter in used_letters:\n",
        "            print('You have already used that character. Please try again.')\n",
        "        else:\n",
        "            print('Invalid character. Please try again.')\n",
        "\n",
        "    if lives > 0:\n",
        "        print(f'Congratulations! You guessed the word: {word}')\n",
        "    else:\n",
        "        print(f'Sorry, you ran out of lives. The word was: {word}')\n",
        "\n",
        "hangman()"
      ]
    }
  ]
}